{
 "cells": [
  {
   "cell_type": "markdown",
   "id": "667bb634",
   "metadata": {},
   "source": [
    "# Here we will be putting code that works and that makes sense (Barrouch)\n",
    "## Make sure to add a fitting title for each code you add  with your name with it "
   ]
  },
  {
   "cell_type": "code",
   "execution_count": 1,
   "id": "11aa1ec6",
   "metadata": {},
   "outputs": [
    {
     "name": "stdout",
     "output_type": "stream",
     "text": [
      "Hi team\n"
     ]
    }
   ],
   "source": [
    "print(\"Hi team\")"
   ]
  }
 ],
 "metadata": {
  "kernelspec": {
   "display_name": "Python 3 (ipykernel)",
   "language": "python",
   "name": "python3"
  },
  "language_info": {
   "codemirror_mode": {
    "name": "ipython",
    "version": 3
   },
   "file_extension": ".py",
   "mimetype": "text/x-python",
   "name": "python",
   "nbconvert_exporter": "python",
   "pygments_lexer": "ipython3",
   "version": "3.11.4"
  }
 },
 "nbformat": 4,
 "nbformat_minor": 5
}
